{
 "cells": [
  {
   "cell_type": "code",
   "execution_count": 1,
   "metadata": {},
   "outputs": [],
   "source": [
    "import pandas as pd\n",
    "import numpy as np\n",
    "\n",
    "from CSVtoDF import CSVtoDF"
   ]
  },
  {
   "cell_type": "markdown",
   "metadata": {},
   "source": [
    "I will use personally defined module `CSVtoDF`, which will temporary open csv file with with statement and only load manually picked columns and drop the rest and close the file."
   ]
  },
  {
   "cell_type": "code",
   "execution_count": 2,
   "metadata": {},
   "outputs": [
    {
     "data": {
      "text/html": [
       "<div>\n",
       "<style scoped>\n",
       "    .dataframe tbody tr th:only-of-type {\n",
       "        vertical-align: middle;\n",
       "    }\n",
       "\n",
       "    .dataframe tbody tr th {\n",
       "        vertical-align: top;\n",
       "    }\n",
       "\n",
       "    .dataframe thead th {\n",
       "        text-align: right;\n",
       "    }\n",
       "</style>\n",
       "<table border=\"1\" class=\"dataframe\">\n",
       "  <thead>\n",
       "    <tr style=\"text-align: right;\">\n",
       "      <th></th>\n",
       "      <th>isbn</th>\n",
       "      <th>isbn13</th>\n",
       "      <th>title1</th>\n",
       "      <th>author1</th>\n",
       "    </tr>\n",
       "  </thead>\n",
       "  <tbody>\n",
       "    <tr>\n",
       "      <th>0</th>\n",
       "      <td>None</td>\n",
       "      <td>9781616200817</td>\n",
       "      <td>water for elephants</td>\n",
       "      <td>sara gruen</td>\n",
       "    </tr>\n",
       "    <tr>\n",
       "      <th>1</th>\n",
       "      <td>None</td>\n",
       "      <td>9781101513781</td>\n",
       "      <td>chasing fire</td>\n",
       "      <td>nora roberts</td>\n",
       "    </tr>\n",
       "    <tr>\n",
       "      <th>2</th>\n",
       "      <td>0759514712</td>\n",
       "      <td>9780759514713</td>\n",
       "      <td>the lincoln lawyer</td>\n",
       "      <td>michael connelly</td>\n",
       "    </tr>\n",
       "    <tr>\n",
       "      <th>3</th>\n",
       "      <td>0316069388</td>\n",
       "      <td>9780316069380</td>\n",
       "      <td>the fifth witness</td>\n",
       "      <td>michael connelly</td>\n",
       "    </tr>\n",
       "    <tr>\n",
       "      <th>4</th>\n",
       "      <td>0425232204</td>\n",
       "      <td>9780425232200</td>\n",
       "      <td>the help</td>\n",
       "      <td>kathryn stockett</td>\n",
       "    </tr>\n",
       "  </tbody>\n",
       "</table>\n",
       "</div>"
      ],
      "text/plain": [
       "         isbn         isbn13               title1           author1\n",
       "0        None  9781616200817  water for elephants        sara gruen\n",
       "1        None  9781101513781         chasing fire      nora roberts\n",
       "2  0759514712  9780759514713   the lincoln lawyer  michael connelly\n",
       "3  0316069388  9780316069380    the fifth witness  michael connelly\n",
       "4  0425232204  9780425232200             the help  kathryn stockett"
      ]
     },
     "execution_count": 2,
     "metadata": {},
     "output_type": "execute_result"
    }
   ],
   "source": [
    "with CSVtoDF('best_sellers_copy.csv') as df:\n",
    "    df['isbn'] = df['primary_isbn10']\n",
    "    df['isbn13'] = df['primary_isbn13']\n",
    "    df['title1'] = df['title'].str.lower()\n",
    "    df['author1'] = df['author'].str.lower()\n",
    "    \n",
    "df.head()"
   ]
  },
  {
   "cell_type": "markdown",
   "metadata": {},
   "source": [
    "Actually we don't need ISBN10 as ISBN13 can better do the job.\n",
    "\n",
    "We drop the `isbn` column and keep the remaining 3."
   ]
  },
  {
   "cell_type": "code",
   "execution_count": 3,
   "metadata": {},
   "outputs": [
    {
     "name": "stdout",
     "output_type": "stream",
     "text": [
      "\n",
      "<class 'pandas.core.frame.DataFrame'>\n",
      "RangeIndex: 8555 entries, 0 to 8554\n",
      "Data columns (total 3 columns):\n",
      " #   Column   Non-Null Count  Dtype \n",
      "---  ------   --------------  ----- \n",
      " 0   isbn13   8552 non-null   object\n",
      " 1   title1   8555 non-null   object\n",
      " 2   author1  8555 non-null   object\n",
      "dtypes: object(3)\n",
      "memory usage: 200.6+ KB\n"
     ]
    }
   ],
   "source": [
    "df = df[['isbn13', 'title1', 'author1']]\n",
    "print()\n",
    "df.info()"
   ]
  },
  {
   "cell_type": "markdown",
   "metadata": {},
   "source": [
    "We see that there are some _Null_ values in our dataframe.\n",
    "But at this moment we are only interested with ISBN13 column, as the values found in that column will be used as a indexes to connect to the goodreads webpage for scraping."
   ]
  },
  {
   "cell_type": "code",
   "execution_count": 4,
   "metadata": {},
   "outputs": [
    {
     "data": {
      "text/html": [
       "<div>\n",
       "<style scoped>\n",
       "    .dataframe tbody tr th:only-of-type {\n",
       "        vertical-align: middle;\n",
       "    }\n",
       "\n",
       "    .dataframe tbody tr th {\n",
       "        vertical-align: top;\n",
       "    }\n",
       "\n",
       "    .dataframe thead th {\n",
       "        text-align: right;\n",
       "    }\n",
       "</style>\n",
       "<table border=\"1\" class=\"dataframe\">\n",
       "  <thead>\n",
       "    <tr style=\"text-align: right;\">\n",
       "      <th></th>\n",
       "      <th>isbn13</th>\n",
       "      <th>title1</th>\n",
       "      <th>author1</th>\n",
       "    </tr>\n",
       "  </thead>\n",
       "  <tbody>\n",
       "    <tr>\n",
       "      <th>143</th>\n",
       "      <td>NaN</td>\n",
       "      <td>summer secrets</td>\n",
       "      <td>barbara freethy</td>\n",
       "    </tr>\n",
       "    <tr>\n",
       "      <th>169</th>\n",
       "      <td>NaN</td>\n",
       "      <td>summer secrets</td>\n",
       "      <td>barbara freethy</td>\n",
       "    </tr>\n",
       "    <tr>\n",
       "      <th>196</th>\n",
       "      <td>NaN</td>\n",
       "      <td>summer secrets</td>\n",
       "      <td>barbara freethy</td>\n",
       "    </tr>\n",
       "  </tbody>\n",
       "</table>\n",
       "</div>"
      ],
      "text/plain": [
       "    isbn13          title1          author1\n",
       "143    NaN  summer secrets  barbara freethy\n",
       "169    NaN  summer secrets  barbara freethy\n",
       "196    NaN  summer secrets  barbara freethy"
      ]
     },
     "execution_count": 4,
     "metadata": {},
     "output_type": "execute_result"
    }
   ],
   "source": [
    "df1 = df[df['isbn13'].isna()]\n",
    "df1"
   ]
  },
  {
   "cell_type": "markdown",
   "metadata": {},
   "source": [
    "Fortunatelly, Summer Secrets by Barbara Freethy is the only book which has no ISBN13 information.\n",
    "I will simply replace the empty value with ISBN number."
   ]
  },
  {
   "cell_type": "code",
   "execution_count": 5,
   "metadata": {},
   "outputs": [
    {
     "name": "stdout",
     "output_type": "stream",
     "text": [
      "\n",
      "(8555, 3)\n",
      "<class 'pandas.core.frame.DataFrame'>\n",
      "RangeIndex: 8555 entries, 0 to 8554\n",
      "Data columns (total 3 columns):\n",
      " #   Column   Non-Null Count  Dtype \n",
      "---  ------   --------------  ----- \n",
      " 0   isbn13   8555 non-null   object\n",
      " 1   title1   8555 non-null   object\n",
      " 2   author1  8555 non-null   object\n",
      "dtypes: object(3)\n",
      "memory usage: 200.6+ KB\n"
     ]
    }
   ],
   "source": [
    "df['isbn13'].replace(np.NaN, 'B003K15AKQ', inplace=True)\n",
    "print()\n",
    "print(df.shape)\n",
    "df.info()"
   ]
  },
  {
   "cell_type": "markdown",
   "metadata": {},
   "source": [
    "Next we have to see at the duplicate values in our dataframe.\n",
    "\n",
    "First I combine Author's name, Title and ISBN13 number into one column. This way we will check for absolute duplicates (books that are exactly same editions, otherwise even if the same book is published with different cover or as revised version its ISBN will be changed)."
   ]
  },
  {
   "cell_type": "code",
   "execution_count": 6,
   "metadata": {},
   "outputs": [
    {
     "name": "stdout",
     "output_type": "stream",
     "text": [
      "\n"
     ]
    },
    {
     "data": {
      "text/plain": [
       "0         sara gruen water for elephants 9781616200817\n",
       "1              nora roberts chasing fire 9781101513781\n",
       "2    michael connelly the lincoln lawyer 9780759514713\n",
       "3     michael connelly the fifth witness 9780316069380\n",
       "4              kathryn stockett the help 9780425232200\n",
       "Name: author_title_isbn13, dtype: object"
      ]
     },
     "execution_count": 6,
     "metadata": {},
     "output_type": "execute_result"
    }
   ],
   "source": [
    "df['author_title_isbn13'] = df['author1'] + ' ' + df['title1'] + ' ' + df['isbn13']\n",
    "print()\n",
    "df['author_title_isbn13'].head()"
   ]
  },
  {
   "cell_type": "code",
   "execution_count": 7,
   "metadata": {
    "scrolled": true
   },
   "outputs": [
    {
     "name": "stdout",
     "output_type": "stream",
     "text": [
      "\n",
      "author_title_isbn13\n",
      "gillian flynn gone girl 9780307588388               112\n",
      "george rr martin a game of thrones 9780553897845     77\n",
      "kristin hannah the nightingale 9781466850606         74\n",
      "e l james fifty shades of grey 9781612130293         71\n",
      "e l james fifty shades darker 9781612130590          70\n",
      "                                                   ... \n",
      "kristen ashley walk through fire 9781455533244        1\n",
      "kristen ashley the will A00B00HYIF9FW                 1\n",
      "kristen ashley the slow burn A00B07P1HZQDH            1\n",
      "kristen ashley the promise A00B00JXW6GFE              1\n",
      "jo nesbo the son 9780385351386                        1\n",
      "Length: 3084, dtype: int64\n"
     ]
    }
   ],
   "source": [
    "dups = df.pivot_table(index=['author_title_isbn13'], aggfunc='size')\n",
    "print()\n",
    "print(dups.sort_values(ascending=False))"
   ]
  },
  {
   "cell_type": "markdown",
   "metadata": {},
   "source": [
    "Now we can observe that Gone Girl and GOT and some other books appear several times in out df. That is because as mentioned earlier some books have been on the bestseller list for tens of weeks and their data came along with each week they have been featured.\n",
    "\n",
    "We will drop those duplicates using `pandas` `drop_duplicates`."
   ]
  },
  {
   "cell_type": "code",
   "execution_count": 8,
   "metadata": {},
   "outputs": [
    {
     "data": {
      "text/plain": [
       "(3084, 3)"
      ]
     },
     "execution_count": 8,
     "metadata": {},
     "output_type": "execute_result"
    }
   ],
   "source": [
    "df.drop_duplicates('author_title_isbn13', keep='first', ignore_index=True, inplace=True)\n",
    "df_final = df[['title1', 'author1', 'isbn13']]\n",
    "df_final.shape"
   ]
  },
  {
   "cell_type": "markdown",
   "metadata": {},
   "source": [
    "We are down to wooping 3084, but this are original titles which can be used for further analysis.\n",
    "\n",
    "We see that there are no more `NaN` values in `isbn13` column and no more duplicates, thus we can proceed and extract it as a list for web scraping."
   ]
  },
  {
   "cell_type": "code",
   "execution_count": 9,
   "metadata": {},
   "outputs": [],
   "source": [
    "isbn13 = list(df.isbn13.values)"
   ]
  }
 ],
 "metadata": {
  "kernelspec": {
   "display_name": "Python 3",
   "language": "python",
   "name": "python3"
  },
  "language_info": {
   "codemirror_mode": {
    "name": "ipython",
    "version": 3
   },
   "file_extension": ".py",
   "mimetype": "text/x-python",
   "name": "python",
   "nbconvert_exporter": "python",
   "pygments_lexer": "ipython3",
   "version": "3.7.7"
  }
 },
 "nbformat": 4,
 "nbformat_minor": 4
}
