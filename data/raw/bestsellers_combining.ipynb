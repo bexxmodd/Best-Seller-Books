{
 "cells": [
  {
   "cell_type": "markdown",
   "metadata": {},
   "source": [
    "# Scraping Data from Goodreads.com"
   ]
  },
  {
   "cell_type": "code",
   "execution_count": 1,
   "metadata": {},
   "outputs": [],
   "source": [
    "import pandas as pd\n",
    "import numpy as np\n",
    "\n",
    "from RawDataCollector import GoodReadsScraper"
   ]
  },
  {
   "cell_type": "markdown",
   "metadata": {},
   "source": [
    "First I import another jupyter notebook to have list of ISBNs and metadata about books"
   ]
  },
  {
   "cell_type": "code",
   "execution_count": 2,
   "metadata": {},
   "outputs": [
    {
     "name": "stdout",
     "output_type": "stream",
     "text": [
      "\n",
      "<class 'pandas.core.frame.DataFrame'>\n",
      "RangeIndex: 8555 entries, 0 to 8554\n",
      "Data columns (total 3 columns):\n",
      " #   Column   Non-Null Count  Dtype \n",
      "---  ------   --------------  ----- \n",
      " 0   isbn13   8552 non-null   object\n",
      " 1   title1   8555 non-null   object\n",
      " 2   author1  8555 non-null   object\n",
      "dtypes: object(3)\n",
      "memory usage: 200.6+ KB\n",
      "\n",
      "(8555, 3)\n",
      "<class 'pandas.core.frame.DataFrame'>\n",
      "RangeIndex: 8555 entries, 0 to 8554\n",
      "Data columns (total 3 columns):\n",
      " #   Column   Non-Null Count  Dtype \n",
      "---  ------   --------------  ----- \n",
      " 0   isbn13   8555 non-null   object\n",
      " 1   title1   8555 non-null   object\n",
      " 2   author1  8555 non-null   object\n",
      "dtypes: object(3)\n",
      "memory usage: 200.6+ KB\n",
      "\n",
      "\n",
      "author_title_isbn13\n",
      "gillian flynn gone girl 9780307588388               112\n",
      "george rr martin a game of thrones 9780553897845     77\n",
      "kristin hannah the nightingale 9781466850606         74\n",
      "e l james fifty shades of grey 9781612130293         71\n",
      "e l james fifty shades darker 9781612130590          70\n",
      "                                                   ... \n",
      "kristen ashley walk through fire 9781455533244        1\n",
      "kristen ashley the will A00B00HYIF9FW                 1\n",
      "kristen ashley the slow burn A00B07P1HZQDH            1\n",
      "kristen ashley the promise A00B00JXW6GFE              1\n",
      "jo nesbo the son 9780385351386                        1\n",
      "Length: 3084, dtype: int64\n",
      "149\n",
      "2935\n"
     ]
    }
   ],
   "source": [
    "# Importing df_final from other notebook\n",
    "%run \"..\\raw\\bestsellers_generating.ipynb\""
   ]
  },
  {
   "cell_type": "markdown",
   "metadata": {},
   "source": [
    "With available list of ISBNs and Dataframe with books metadata I start:\n",
    "### Web Scraping"
   ]
  },
  {
   "cell_type": "markdown",
   "metadata": {},
   "source": [
    "First we check if _bestsellers_ dataframe with _ISBNs_ is defined and is not empty.\n",
    "Otherwise raise the `ValueError`."
   ]
  },
  {
   "cell_type": "code",
   "execution_count": 3,
   "metadata": {},
   "outputs": [],
   "source": [
    "if df_final is not None:\n",
    "    df1 = df_final\n",
    "    isbns = df_final['isbn13']\n",
    "else:\n",
    "    raise ValueError('variables not found...')"
   ]
  },
  {
   "cell_type": "markdown",
   "metadata": {},
   "source": [
    "If everything is in order we proceed scraping additional data from the Goodreads.com"
   ]
  },
  {
   "cell_type": "code",
   "execution_count": 4,
   "metadata": {},
   "outputs": [
    {
     "name": "stdout",
     "output_type": "stream",
     "text": [
      "You just scrapped 2935 books from the Goodreads.com!\n"
     ]
    }
   ],
   "source": [
    "scrapped = GoodReadsScraper(isbns)\n",
    "print(scrapped)"
   ]
  },
  {
   "cell_type": "markdown",
   "metadata": {},
   "source": [
    "I instantiate `GoodReadsScraper`, personal module, which takes isbn numbers and scraps data for each book and stores html text as a list.\n",
    "\n",
    "This will take some time as we are performing thousands of calls."
   ]
  },
  {
   "cell_type": "markdown",
   "metadata": {},
   "source": [
    "After scrapping is done we extract **number of pages, edition, cover picture url** and **genres** and convert them into `pandas` dataframe."
   ]
  },
  {
   "cell_type": "code",
   "execution_count": 5,
   "metadata": {},
   "outputs": [
    {
     "name": "stdout",
     "output_type": "stream",
     "text": [
      "(2935, 3)\n"
     ]
    }
   ],
   "source": [
    "df2 = scrapped.data_converter()\n",
    "print(df2.shape)"
   ]
  },
  {
   "cell_type": "code",
   "execution_count": 6,
   "metadata": {},
   "outputs": [
    {
     "name": "stdout",
     "output_type": "stream",
     "text": [
      "(2935, 2)\n"
     ]
    }
   ],
   "source": [
    "df3 = scrapped.genre_converter()\n",
    "print(df3.shape)"
   ]
  },
  {
   "cell_type": "code",
   "execution_count": 7,
   "metadata": {},
   "outputs": [
    {
     "name": "stdout",
     "output_type": "stream",
     "text": [
      "(2935, 2)\n"
     ]
    }
   ],
   "source": [
    "df4 = scrapped.cover_url_converter()\n",
    "print(df4.shape)"
   ]
  },
  {
   "cell_type": "code",
   "execution_count": 8,
   "metadata": {},
   "outputs": [
    {
     "name": "stdout",
     "output_type": "stream",
     "text": [
      "(2935, 3)\n"
     ]
    }
   ],
   "source": [
    "df5 = scrapped.pop_converter()\n",
    "print(df5.shape)"
   ]
  },
  {
   "cell_type": "markdown",
   "metadata": {},
   "source": [
    "After all neccessary methods are executed we have four different dataframes, which we will join on _ISBN13_ number and merge into one."
   ]
  },
  {
   "cell_type": "code",
   "execution_count": 9,
   "metadata": {},
   "outputs": [
    {
     "data": {
      "text/html": [
       "<div>\n",
       "<style scoped>\n",
       "    .dataframe tbody tr th:only-of-type {\n",
       "        vertical-align: middle;\n",
       "    }\n",
       "\n",
       "    .dataframe tbody tr th {\n",
       "        vertical-align: top;\n",
       "    }\n",
       "\n",
       "    .dataframe thead th {\n",
       "        text-align: right;\n",
       "    }\n",
       "</style>\n",
       "<table border=\"1\" class=\"dataframe\">\n",
       "  <thead>\n",
       "    <tr style=\"text-align: right;\">\n",
       "      <th></th>\n",
       "      <th>title1</th>\n",
       "      <th>author1</th>\n",
       "      <th>isbn13</th>\n",
       "      <th>pages</th>\n",
       "      <th>edition</th>\n",
       "      <th>genres</th>\n",
       "      <th>cover_url</th>\n",
       "      <th>rating</th>\n",
       "      <th>count</th>\n",
       "    </tr>\n",
       "  </thead>\n",
       "  <tbody>\n",
       "    <tr>\n",
       "      <th>2930</th>\n",
       "      <td>redhead by the side of the road</td>\n",
       "      <td>anne tyler</td>\n",
       "      <td>9780525658429</td>\n",
       "      <td>192 pages</td>\n",
       "      <td>ebook</td>\n",
       "      <td>[[Fiction], [Contemporary], [Literary Fiction]]</td>\n",
       "      <td>https://i.gr-assets.com/images/S/compressed.ph...</td>\n",
       "      <td>\\n  3.80\\n</td>\n",
       "      <td>\\n  6,416\\n  ratings\\n</td>\n",
       "    </tr>\n",
       "    <tr>\n",
       "      <th>2931</th>\n",
       "      <td>revenge</td>\n",
       "      <td>james patterson and andrew holmes</td>\n",
       "      <td>9781538700723</td>\n",
       "      <td>None</td>\n",
       "      <td>None</td>\n",
       "      <td>[]</td>\n",
       "      <td>NaN</td>\n",
       "      <td>None</td>\n",
       "      <td>None</td>\n",
       "    </tr>\n",
       "    <tr>\n",
       "      <th>2932</th>\n",
       "      <td>everything i never told you</td>\n",
       "      <td>celeste ng</td>\n",
       "      <td>9780143127550</td>\n",
       "      <td>292 pages</td>\n",
       "      <td>Paperback</td>\n",
       "      <td>[[Fiction], [Contemporary], [Mystery]]</td>\n",
       "      <td>https://i.gr-assets.com/images/S/compressed.ph...</td>\n",
       "      <td>\\n  3.86\\n</td>\n",
       "      <td>\\n  301,065\\n  ratings\\n</td>\n",
       "    </tr>\n",
       "    <tr>\n",
       "      <th>2933</th>\n",
       "      <td>the book of lost friends</td>\n",
       "      <td>lisa wingate</td>\n",
       "      <td>9781984819895</td>\n",
       "      <td>None</td>\n",
       "      <td>Unknown Binding</td>\n",
       "      <td>[[Historical], [Historical Fiction], [Fiction]]</td>\n",
       "      <td>NaN</td>\n",
       "      <td>\\n  4.27\\n</td>\n",
       "      <td>\\n  5,903\\n  ratings\\n</td>\n",
       "    </tr>\n",
       "    <tr>\n",
       "      <th>2934</th>\n",
       "      <td>texas outlaw</td>\n",
       "      <td>james patterson and andrew bourelle</td>\n",
       "      <td>9780316428163</td>\n",
       "      <td>448 pages</td>\n",
       "      <td>Hardcover</td>\n",
       "      <td>[[Mystery], [Fiction], [Westerns]]</td>\n",
       "      <td>https://i.gr-assets.com/images/S/compressed.ph...</td>\n",
       "      <td>\\n  4.43\\n</td>\n",
       "      <td>\\n  1,980\\n  ratings\\n</td>\n",
       "    </tr>\n",
       "  </tbody>\n",
       "</table>\n",
       "</div>"
      ],
      "text/plain": [
       "                               title1                              author1  \\\n",
       "2930  redhead by the side of the road                           anne tyler   \n",
       "2931                          revenge    james patterson and andrew holmes   \n",
       "2932      everything i never told you                           celeste ng   \n",
       "2933         the book of lost friends                         lisa wingate   \n",
       "2934                     texas outlaw  james patterson and andrew bourelle   \n",
       "\n",
       "             isbn13      pages          edition  \\\n",
       "2930  9780525658429  192 pages            ebook   \n",
       "2931  9781538700723       None             None   \n",
       "2932  9780143127550  292 pages        Paperback   \n",
       "2933  9781984819895       None  Unknown Binding   \n",
       "2934  9780316428163  448 pages        Hardcover   \n",
       "\n",
       "                                               genres  \\\n",
       "2930  [[Fiction], [Contemporary], [Literary Fiction]]   \n",
       "2931                                               []   \n",
       "2932           [[Fiction], [Contemporary], [Mystery]]   \n",
       "2933  [[Historical], [Historical Fiction], [Fiction]]   \n",
       "2934               [[Mystery], [Fiction], [Westerns]]   \n",
       "\n",
       "                                              cover_url      rating  \\\n",
       "2930  https://i.gr-assets.com/images/S/compressed.ph...  \\n  3.80\\n   \n",
       "2931                                                NaN        None   \n",
       "2932  https://i.gr-assets.com/images/S/compressed.ph...  \\n  3.86\\n   \n",
       "2933                                                NaN  \\n  4.27\\n   \n",
       "2934  https://i.gr-assets.com/images/S/compressed.ph...  \\n  4.43\\n   \n",
       "\n",
       "                         count  \n",
       "2930    \\n  6,416\\n  ratings\\n  \n",
       "2931                      None  \n",
       "2932  \\n  301,065\\n  ratings\\n  \n",
       "2933    \\n  5,903\\n  ratings\\n  \n",
       "2934    \\n  1,980\\n  ratings\\n  "
      ]
     },
     "execution_count": 9,
     "metadata": {},
     "output_type": "execute_result"
    }
   ],
   "source": [
    "result = df1.merge(df2, on='isbn13').merge(df3, on='isbn13').merge(df4, on='isbn13').merge(df5, on='isbn13')\n",
    "result.tail()"
   ]
  },
  {
   "cell_type": "code",
   "execution_count": 10,
   "metadata": {},
   "outputs": [
    {
     "data": {
      "text/plain": [
       "(2935, 9)"
      ]
     },
     "execution_count": 10,
     "metadata": {},
     "output_type": "execute_result"
    }
   ],
   "source": [
    "result.shape"
   ]
  },
  {
   "cell_type": "code",
   "execution_count": 19,
   "metadata": {},
   "outputs": [
    {
     "name": "stdout",
     "output_type": "stream",
     "text": [
      "<class 'pandas.core.frame.DataFrame'>\n",
      "Int64Index: 2935 entries, 0 to 2934\n",
      "Data columns (total 9 columns):\n",
      " #   Column     Non-Null Count  Dtype \n",
      "---  ------     --------------  ----- \n",
      " 0   title1     2935 non-null   object\n",
      " 1   author1    2935 non-null   object\n",
      " 2   isbn13     2935 non-null   object\n",
      " 3   pages      2599 non-null   object\n",
      " 4   edition    2795 non-null   object\n",
      " 5   genres     2935 non-null   object\n",
      " 6   cover_url  2713 non-null   object\n",
      " 7   rating     2799 non-null   object\n",
      " 8   count      2799 non-null   object\n",
      "dtypes: object(9)\n",
      "memory usage: 229.3+ KB\n"
     ]
    }
   ],
   "source": [
    "result.info()"
   ]
  },
  {
   "cell_type": "markdown",
   "metadata": {},
   "source": [
    "I have some missing values but that's ok.\n",
    "\n",
    "Finally I save data as a pickle file."
   ]
  },
  {
   "cell_type": "code",
   "execution_count": 20,
   "metadata": {},
   "outputs": [],
   "source": [
    "result.to_csv('bestsellers_merged.csv', index=False)"
   ]
  },
  {
   "cell_type": "code",
   "execution_count": 16,
   "metadata": {},
   "outputs": [],
   "source": [
    "# result.to_pickle('complete_bestsellers.pkl')"
   ]
  },
  {
   "cell_type": "code",
   "execution_count": null,
   "metadata": {},
   "outputs": [],
   "source": []
  }
 ],
 "metadata": {
  "kernelspec": {
   "display_name": "Python 3",
   "language": "python",
   "name": "python3"
  },
  "language_info": {
   "codemirror_mode": {
    "name": "ipython",
    "version": 3
   },
   "file_extension": ".py",
   "mimetype": "text/x-python",
   "name": "python",
   "nbconvert_exporter": "python",
   "pygments_lexer": "ipython3",
   "version": "3.7.7"
  }
 },
 "nbformat": 4,
 "nbformat_minor": 4
}
