{
 "cells": [
  {
   "cell_type": "markdown",
   "metadata": {},
   "source": [
    "# Scraping Data from Goodreads.com"
   ]
  },
  {
   "cell_type": "code",
   "execution_count": 1,
   "metadata": {},
   "outputs": [],
   "source": [
    "import pandas as pd\n",
    "import numpy as np\n",
    "\n",
    "from RawDataCollector import GoodReadsScraper"
   ]
  },
  {
   "cell_type": "markdown",
   "metadata": {},
   "source": [
    "First I import another jupyter notebook to have list of ISBNs and metadata about books"
   ]
  },
  {
   "cell_type": "code",
   "execution_count": 2,
   "metadata": {},
   "outputs": [
    {
     "name": "stdout",
     "output_type": "stream",
     "text": [
      "\n",
      "<class 'pandas.core.frame.DataFrame'>\n",
      "RangeIndex: 8555 entries, 0 to 8554\n",
      "Data columns (total 4 columns):\n",
      " #   Column   Non-Null Count  Dtype \n",
      "---  ------   --------------  ----- \n",
      " 0   isbn13   8552 non-null   object\n",
      " 1   title1   8555 non-null   object\n",
      " 2   author1  8555 non-null   object\n",
      " 3   weeks    8555 non-null   int64 \n",
      "dtypes: int64(1), object(3)\n",
      "memory usage: 267.5+ KB\n",
      "\n",
      "(8555, 4)\n",
      "<class 'pandas.core.frame.DataFrame'>\n",
      "RangeIndex: 8555 entries, 0 to 8554\n",
      "Data columns (total 4 columns):\n",
      " #   Column   Non-Null Count  Dtype \n",
      "---  ------   --------------  ----- \n",
      " 0   isbn13   8555 non-null   object\n",
      " 1   title1   8555 non-null   object\n",
      " 2   author1  8555 non-null   object\n",
      " 3   weeks    8555 non-null   int64 \n",
      "dtypes: int64(1), object(3)\n",
      "memory usage: 267.5+ KB\n",
      "\n",
      "\n",
      "author_title_isbn13\n",
      "gillian flynn gone girl 9780307588388               112\n",
      "george rr martin a game of thrones 9780553897845     77\n",
      "kristin hannah the nightingale 9781466850606         74\n",
      "e l james fifty shades of grey 9781612130293         71\n",
      "e l james fifty shades darker 9781612130590          70\n",
      "                                                   ... \n",
      "kristen ashley walk through fire 9781455533244        1\n",
      "kristen ashley the will A00B00HYIF9FW                 1\n",
      "kristen ashley the slow burn A00B07P1HZQDH            1\n",
      "kristen ashley the promise A00B00JXW6GFE              1\n",
      "jo nesbo the son 9780385351386                        1\n",
      "Length: 3084, dtype: int64\n",
      "149\n",
      "2935\n"
     ]
    }
   ],
   "source": [
    "# Importing df_final from other notebook\n",
    "%run \"..\\raw\\bestsellers_generating.ipynb\""
   ]
  },
  {
   "cell_type": "markdown",
   "metadata": {},
   "source": [
    "With available list of ISBNs and Dataframe with books metadata I start:\n",
    "### Web Scraping"
   ]
  },
  {
   "cell_type": "markdown",
   "metadata": {},
   "source": [
    "First we check if _bestsellers_ dataframe with _ISBNs_ is defined and is not empty.\n",
    "Otherwise raise the `ValueError`."
   ]
  },
  {
   "cell_type": "code",
   "execution_count": 3,
   "metadata": {},
   "outputs": [
    {
     "name": "stdout",
     "output_type": "stream",
     "text": [
      "All cool!\n"
     ]
    }
   ],
   "source": [
    "if df_final is not None:\n",
    "    df1 = df_final\n",
    "    isbns = df_final['isbn13']\n",
    "    print('All cool!')\n",
    "else:\n",
    "    raise ValueError('variables not found...')"
   ]
  },
  {
   "cell_type": "markdown",
   "metadata": {},
   "source": [
    "If everything is in order we proceed scraping additional data from the Goodreads.com"
   ]
  },
  {
   "cell_type": "code",
   "execution_count": 4,
   "metadata": {},
   "outputs": [
    {
     "name": "stdout",
     "output_type": "stream",
     "text": [
      "You just scrapped 5 books from the Goodreads.com!\n"
     ]
    }
   ],
   "source": [
    "scrapped = GoodReadsScraper(isbns)\n",
    "html_list = scrapped.store_html()\n",
    "print(scrapped)"
   ]
  },
  {
   "cell_type": "markdown",
   "metadata": {},
   "source": [
    "I instantiate `GoodReadsScraper`, personal module, which takes isbn numbers and scraps data for each book and stores html text as a list.\n",
    "\n",
    "This will take some time as we are performing thousands of calls."
   ]
  },
  {
   "cell_type": "markdown",
   "metadata": {},
   "source": [
    "After scrapping is done we extract **number of pages, edition, cover picture url** and **genres** and convert them into `pandas` dataframe."
   ]
  },
  {
   "cell_type": "code",
   "execution_count": 5,
   "metadata": {},
   "outputs": [
    {
     "name": "stdout",
     "output_type": "stream",
     "text": [
      "(5, 4)\n"
     ]
    }
   ],
   "source": [
    "df2 = scrapped.data_converter()\n",
    "print(df2.shape)"
   ]
  },
  {
   "cell_type": "code",
   "execution_count": 7,
   "metadata": {},
   "outputs": [
    {
     "name": "stdout",
     "output_type": "stream",
     "text": [
      "(5, 2)\n"
     ]
    }
   ],
   "source": [
    "df3 = scrapped.cover_url_converter()\n",
    "print(df3.shape)"
   ]
  },
  {
   "cell_type": "code",
   "execution_count": 8,
   "metadata": {},
   "outputs": [
    {
     "name": "stdout",
     "output_type": "stream",
     "text": [
      "(5, 3)\n"
     ]
    }
   ],
   "source": [
    "df4 = scrapped.pop_converter()\n",
    "print(df4.shape)"
   ]
  },
  {
   "cell_type": "code",
   "execution_count": 9,
   "metadata": {},
   "outputs": [
    {
     "data": {
      "text/html": [
       "<div>\n",
       "<style scoped>\n",
       "    .dataframe tbody tr th:only-of-type {\n",
       "        vertical-align: middle;\n",
       "    }\n",
       "\n",
       "    .dataframe tbody tr th {\n",
       "        vertical-align: top;\n",
       "    }\n",
       "\n",
       "    .dataframe thead th {\n",
       "        text-align: right;\n",
       "    }\n",
       "</style>\n",
       "<table border=\"1\" class=\"dataframe\">\n",
       "  <thead>\n",
       "    <tr style=\"text-align: right;\">\n",
       "      <th></th>\n",
       "      <th>isbn13</th>\n",
       "      <th>description</th>\n",
       "    </tr>\n",
       "  </thead>\n",
       "  <tbody>\n",
       "    <tr>\n",
       "      <th>0</th>\n",
       "      <td>9780345541444</td>\n",
       "      <td>\\nAt nearly one hundred years old, Thalia Mars...</td>\n",
       "    </tr>\n",
       "  </tbody>\n",
       "</table>\n",
       "</div>"
      ],
      "text/plain": [
       "          isbn13                                        description\n",
       "0  9780345541444  \\nAt nearly one hundred years old, Thalia Mars..."
      ]
     },
     "execution_count": 9,
     "metadata": {},
     "output_type": "execute_result"
    }
   ],
   "source": [
    "df6 = scrapped.description()\n",
    "df6"
   ]
  },
  {
   "cell_type": "markdown",
   "metadata": {},
   "source": [
    "After all neccessary methods are executed we have four different dataframes, which we will join on _ISBN13_ number and merge into one."
   ]
  },
  {
   "cell_type": "code",
   "execution_count": 11,
   "metadata": {},
   "outputs": [
    {
     "data": {
      "text/html": [
       "<div>\n",
       "<style scoped>\n",
       "    .dataframe tbody tr th:only-of-type {\n",
       "        vertical-align: middle;\n",
       "    }\n",
       "\n",
       "    .dataframe tbody tr th {\n",
       "        vertical-align: top;\n",
       "    }\n",
       "\n",
       "    .dataframe thead th {\n",
       "        text-align: right;\n",
       "    }\n",
       "</style>\n",
       "<table border=\"1\" class=\"dataframe\">\n",
       "  <thead>\n",
       "    <tr style=\"text-align: right;\">\n",
       "      <th></th>\n",
       "      <th>title1</th>\n",
       "      <th>author1</th>\n",
       "      <th>isbn13</th>\n",
       "      <th>pages</th>\n",
       "      <th>released</th>\n",
       "      <th>edition</th>\n",
       "      <th>cover_url</th>\n",
       "      <th>rating</th>\n",
       "      <th>count</th>\n",
       "    </tr>\n",
       "  </thead>\n",
       "  <tbody>\n",
       "    <tr>\n",
       "      <th>0</th>\n",
       "      <td>never never</td>\n",
       "      <td>james patterson and candice fox</td>\n",
       "      <td>9780316433174</td>\n",
       "      <td>363 pages</td>\n",
       "      <td>\\n              (first published August 25th 2...</td>\n",
       "      <td>Hardcover</td>\n",
       "      <td>https://i.gr-assets.com/images/S/compressed.ph...</td>\n",
       "      <td>\\n  3.62\\n</td>\n",
       "      <td>\\n  13,917\\n  ratings\\n</td>\n",
       "    </tr>\n",
       "    <tr>\n",
       "      <th>1</th>\n",
       "      <td>devil in spring</td>\n",
       "      <td>lisa kleypas</td>\n",
       "      <td>9780062371904</td>\n",
       "      <td>384 pages</td>\n",
       "      <td>\\n              —\\n              37 likes\\n</td>\n",
       "      <td>ebook</td>\n",
       "      <td>https://i.gr-assets.com/images/S/compressed.ph...</td>\n",
       "      <td>\\n  4.08\\n</td>\n",
       "      <td>\\n  22,036\\n  ratings\\n</td>\n",
       "    </tr>\n",
       "    <tr>\n",
       "      <th>2</th>\n",
       "      <td>aftermath:: empire's end</td>\n",
       "      <td>chuck wendig</td>\n",
       "      <td>9781101966969</td>\n",
       "      <td>423 pages</td>\n",
       "      <td>\\n              —\\n              7 likes\\n</td>\n",
       "      <td>Hardcover</td>\n",
       "      <td>https://i.gr-assets.com/images/S/compressed.ph...</td>\n",
       "      <td>\\n  3.79\\n</td>\n",
       "      <td>\\n  9,247\\n  ratings\\n</td>\n",
       "    </tr>\n",
       "    <tr>\n",
       "      <th>3</th>\n",
       "      <td>echoes in death</td>\n",
       "      <td>j d robb</td>\n",
       "      <td>9781250123145</td>\n",
       "      <td>400 pages</td>\n",
       "      <td>\\n              —\\n              12 likes\\n</td>\n",
       "      <td>ebook</td>\n",
       "      <td>https://i.gr-assets.com/images/S/compressed.ph...</td>\n",
       "      <td>\\n  4.41\\n</td>\n",
       "      <td>\\n  19,576\\n  ratings\\n</td>\n",
       "    </tr>\n",
       "    <tr>\n",
       "      <th>4</th>\n",
       "      <td>heartbreak hotel</td>\n",
       "      <td>jonathan kellerman</td>\n",
       "      <td>9780345541444</td>\n",
       "      <td>325 pages</td>\n",
       "      <td>\\n              —\\n              0 likes\\n</td>\n",
       "      <td>Nook</td>\n",
       "      <td>https://i.gr-assets.com/images/S/compressed.ph...</td>\n",
       "      <td>\\n  3.84\\n</td>\n",
       "      <td>\\n  11,852\\n  ratings\\n</td>\n",
       "    </tr>\n",
       "  </tbody>\n",
       "</table>\n",
       "</div>"
      ],
      "text/plain": [
       "                     title1                          author1         isbn13  \\\n",
       "0               never never  james patterson and candice fox  9780316433174   \n",
       "1           devil in spring                     lisa kleypas  9780062371904   \n",
       "2  aftermath:: empire's end                     chuck wendig  9781101966969   \n",
       "3           echoes in death                         j d robb  9781250123145   \n",
       "4          heartbreak hotel               jonathan kellerman  9780345541444   \n",
       "\n",
       "       pages                                           released    edition  \\\n",
       "0  363 pages  \\n              (first published August 25th 2...  Hardcover   \n",
       "1  384 pages        \\n              —\\n              37 likes\\n      ebook   \n",
       "2  423 pages         \\n              —\\n              7 likes\\n  Hardcover   \n",
       "3  400 pages        \\n              —\\n              12 likes\\n      ebook   \n",
       "4  325 pages         \\n              —\\n              0 likes\\n       Nook   \n",
       "\n",
       "                                           cover_url      rating  \\\n",
       "0  https://i.gr-assets.com/images/S/compressed.ph...  \\n  3.62\\n   \n",
       "1  https://i.gr-assets.com/images/S/compressed.ph...  \\n  4.08\\n   \n",
       "2  https://i.gr-assets.com/images/S/compressed.ph...  \\n  3.79\\n   \n",
       "3  https://i.gr-assets.com/images/S/compressed.ph...  \\n  4.41\\n   \n",
       "4  https://i.gr-assets.com/images/S/compressed.ph...  \\n  3.84\\n   \n",
       "\n",
       "                     count  \n",
       "0  \\n  13,917\\n  ratings\\n  \n",
       "1  \\n  22,036\\n  ratings\\n  \n",
       "2   \\n  9,247\\n  ratings\\n  \n",
       "3  \\n  19,576\\n  ratings\\n  \n",
       "4  \\n  11,852\\n  ratings\\n  "
      ]
     },
     "execution_count": 11,
     "metadata": {},
     "output_type": "execute_result"
    }
   ],
   "source": [
    "result = df1.merge(df2, on='isbn13').merge(df3, on='isbn13').merge(df4, on='isbn13')\n",
    "result.tail()"
   ]
  },
  {
   "cell_type": "code",
   "execution_count": 12,
   "metadata": {},
   "outputs": [
    {
     "data": {
      "text/plain": [
       "(5, 9)"
      ]
     },
     "execution_count": 12,
     "metadata": {},
     "output_type": "execute_result"
    }
   ],
   "source": [
    "result.shape"
   ]
  },
  {
   "cell_type": "code",
   "execution_count": 13,
   "metadata": {},
   "outputs": [
    {
     "name": "stdout",
     "output_type": "stream",
     "text": [
      "<class 'pandas.core.frame.DataFrame'>\n",
      "Int64Index: 5 entries, 0 to 4\n",
      "Data columns (total 9 columns):\n",
      " #   Column     Non-Null Count  Dtype \n",
      "---  ------     --------------  ----- \n",
      " 0   title1     5 non-null      object\n",
      " 1   author1    5 non-null      object\n",
      " 2   isbn13     5 non-null      object\n",
      " 3   pages      5 non-null      object\n",
      " 4   released   5 non-null      object\n",
      " 5   edition    5 non-null      object\n",
      " 6   cover_url  5 non-null      object\n",
      " 7   rating     5 non-null      object\n",
      " 8   count      5 non-null      object\n",
      "dtypes: object(9)\n",
      "memory usage: 400.0+ bytes\n"
     ]
    }
   ],
   "source": [
    "result.info()"
   ]
  },
  {
   "cell_type": "markdown",
   "metadata": {},
   "source": [
    "I have some missing values but that's ok.\n",
    "\n",
    "Finally I save data as a pickle file."
   ]
  },
  {
   "cell_type": "code",
   "execution_count": null,
   "metadata": {},
   "outputs": [],
   "source": [
    "# result.to_csv('bestsellers_merged.csv', index=False)"
   ]
  },
  {
   "cell_type": "code",
   "execution_count": null,
   "metadata": {},
   "outputs": [],
   "source": [
    "# result.to_pickle('complete_bestsellers.pkl')"
   ]
  },
  {
   "cell_type": "code",
   "execution_count": null,
   "metadata": {},
   "outputs": [],
   "source": []
  }
 ],
 "metadata": {
  "kernelspec": {
   "display_name": "Python 3",
   "language": "python",
   "name": "python3"
  },
  "language_info": {
   "codemirror_mode": {
    "name": "ipython",
    "version": 3
   },
   "file_extension": ".py",
   "mimetype": "text/x-python",
   "name": "python",
   "nbconvert_exporter": "python",
   "pygments_lexer": "ipython3",
   "version": "3.7.7"
  }
 },
 "nbformat": 4,
 "nbformat_minor": 4
}
