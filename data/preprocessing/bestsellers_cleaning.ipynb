{
 "cells": [
  {
   "cell_type": "code",
   "execution_count": null,
   "metadata": {},
   "outputs": [],
   "source": [
    "import pandas as pd\n",
    "import numpy as np\n",
    "import re\n",
    "import sys"
   ]
  },
  {
   "cell_type": "markdown",
   "metadata": {},
   "source": [
    "I define the path to the **raw** folder to use `CSVtoDF` module, which is located there."
   ]
  },
  {
   "cell_type": "code",
   "execution_count": null,
   "metadata": {},
   "outputs": [],
   "source": [
    "sys.path.insert(0, \"C:/Users/Hellrox/Desktop/Projects/Best-Seller-Books/data/raw\")\n",
    "from CSVtoDF import CSVtoDF"
   ]
  },
  {
   "cell_type": "markdown",
   "metadata": {},
   "source": [
    "I load everything except _cover picture url_ column."
   ]
  },
  {
   "cell_type": "code",
   "execution_count": null,
   "metadata": {},
   "outputs": [],
   "source": [
    "with CSVtoDF(\"C:/Users/Hellrox/Desktop/Projects/Best-Seller-Books/data/raw/bestsellers_merged.csv\") as df:\n",
    "    df['title'] = df['title1']\n",
    "    df['author'] = df['author1']\n",
    "    df['pages_number'] = df['pages']\n",
    "    df['format'] = df['edition']\n",
    "    df['genre'] = df['genres']\n",
    "    df['score'] = df['rating']\n",
    "    df['total_count'] = df['count']\n",
    "\n",
    "df.head()"
   ]
  },
  {
   "cell_type": "markdown",
   "metadata": {},
   "source": [
    "# Cleaning the Dataframe\n",
    "\n",
    "I start by cleaning the genres column, which still is a text from a CSS format I scraped from Goodreads.com\n",
    "\n",
    "I start by defining function `genre_to_list` which will take `pandas` series and `regex` pattern as an argument and return list of extracted strings."
   ]
  },
  {
   "cell_type": "code",
   "execution_count": null,
   "metadata": {},
   "outputs": [],
   "source": [
    "def genre_to_list(series, pattern):\n",
    "    return [re.findall(pattern, txt) for txt in series]\n",
    "\n",
    "genr = genre_to_list(df['genre'], r'>(\\w+)<')"
   ]
  },
  {
   "cell_type": "markdown",
   "metadata": {},
   "source": [
    "After that I iterate through the list and join them to the original dataframe."
   ]
  },
  {
   "cell_type": "code",
   "execution_count": null,
   "metadata": {},
   "outputs": [],
   "source": [
    "for g, i in zip(genr, range(0, len(genr))):\n",
    "    df['genre'][i] = ', '.join(g)\n",
    "    \n",
    "df.head()"
   ]
  },
  {
   "cell_type": "markdown",
   "metadata": {},
   "source": [
    "Next comes the `pages_number` column. I strip only the digit values and convert them to the _float_."
   ]
  },
  {
   "cell_type": "code",
   "execution_count": null,
   "metadata": {},
   "outputs": [],
   "source": [
    "df[['pages', 'drop']] = df['pages_number'].str.split(expand=True)\n",
    "df['pages'] = df['pages'].astype(float)\n",
    "df.drop(['drop', 'pages_number'], axis=1, inplace=True)\n",
    "df.head()"
   ]
  },
  {
   "cell_type": "markdown",
   "metadata": {},
   "source": [
    "I strip numerical value from the `total_count`, remove commas and covnert to float value."
   ]
  },
  {
   "cell_type": "code",
   "execution_count": null,
   "metadata": {},
   "outputs": [],
   "source": [
    "df[['count', 'drop']] = df['total_count'].str.strip().str.split('\\\\n', expand=True)\n",
    "df['count'] = df['count'].str.replace(',', '').astype(float)\n",
    "df.drop(['drop', 'total_count'], axis=1, inplace=True)\n",
    "df = df[['title', 'author', 'format', 'pages', 'score', 'count']]\n",
    "df.head()"
   ]
  },
  {
   "cell_type": "markdown",
   "metadata": {},
   "source": [
    "I convert the `title` and `author` values into title to capitalize first letters of each word. To make for pleasently readable"
   ]
  },
  {
   "cell_type": "code",
   "execution_count": null,
   "metadata": {},
   "outputs": [],
   "source": [
    "df['title'] = df['title'].str.title()\n",
    "df['author'] = df['author'].str.title()\n",
    "df.head()"
   ]
  },
  {
   "cell_type": "markdown",
   "metadata": {},
   "source": [
    "Let's take a look and clean version of previosu dataframe."
   ]
  },
  {
   "cell_type": "code",
   "execution_count": null,
   "metadata": {},
   "outputs": [],
   "source": [
    "df.info()"
   ]
  },
  {
   "cell_type": "markdown",
   "metadata": {},
   "source": [
    "Finally, I save it to the new csv file."
   ]
  },
  {
   "cell_type": "code",
   "execution_count": null,
   "metadata": {},
   "outputs": [],
   "source": [
    "df.to_csv('bestsellers.csv')"
   ]
  },
  {
   "cell_type": "code",
   "execution_count": null,
   "metadata": {},
   "outputs": [],
   "source": []
  }
 ],
 "metadata": {
  "kernelspec": {
   "display_name": "Python 3",
   "language": "python",
   "name": "python3"
  },
  "language_info": {
   "codemirror_mode": {
    "name": "ipython",
    "version": 3
   },
   "file_extension": ".py",
   "mimetype": "text/x-python",
   "name": "python",
   "nbconvert_exporter": "python",
   "pygments_lexer": "ipython3",
   "version": "3.7.7"
  }
 },
 "nbformat": 4,
 "nbformat_minor": 4
}
