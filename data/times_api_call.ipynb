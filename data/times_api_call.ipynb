{
 "cells": [
  {
   "cell_type": "markdown",
   "metadata": {},
   "source": [
    "# Calling Times API\n",
    "\n",
    "We will extract the weekly best seller's list for the last 10 years from the Times API."
   ]
  },
  {
   "cell_type": "code",
   "execution_count": null,
   "metadata": {},
   "outputs": [],
   "source": [
    "import numpy as np\n",
    "import pandas as pd\n",
    "\n",
    "from RawDataCollector import TimesExtractor"
   ]
  },
  {
   "cell_type": "markdown",
   "metadata": {},
   "source": [
    "I use the manually defined class `TimesExtractor`, which will take `start_date`, `end_date`, and `frequencies` as an argument and will make calls to the Times Best Seller Books API based on the number of weeks within those dates range."
   ]
  },
  {
   "cell_type": "code",
   "execution_count": null,
   "metadata": {},
   "outputs": [],
   "source": [
    "year = TimesExtractor(start_date='2011-05-01', end_date='2011-05-01', frq='W')\n",
    "dic = year.make_call()"
   ]
  },
  {
   "cell_type": "markdown",
   "metadata": {},
   "source": [
    "Because the Times API has a limit of maximum 20 calls per minute with 3 seconds lapses between calls it takes time for the module to make all the given calls.\n",
    "\n",
    "* In our case it took 27 minutes to make 470 calls.\n",
    "\n",
    "-----------\n",
    "Now I will extract only the dictionaries containing the data about bestseller books.\n",
    "In order to do that I use personally defined function `converter` which will extract values based on given `keys`."
   ]
  },
  {
   "cell_type": "code",
   "execution_count": null,
   "metadata": {},
   "outputs": [],
   "source": [
    "keys = ['weeks_on_list', 'primary_isbn10', 'primary_isbn13',\n",
    "       'publisher', 'description', 'title', 'author']"
   ]
  },
  {
   "cell_type": "code",
   "execution_count": null,
   "metadata": {},
   "outputs": [],
   "source": [
    "def converter(dic, keys):\n",
    "    converted = {}\n",
    "    for n in range(0, len(dic)):\n",
    "        for m in range(0, len(dic[n])):\n",
    "            for k in keys:\n",
    "                converted.setdefault(k, []).append(dic[n][m][k])\n",
    "    return converted"
   ]
  },
  {
   "cell_type": "code",
   "execution_count": null,
   "metadata": {},
   "outputs": [],
   "source": [
    "# Calling function with extracted data from the Times API and hand picked keys\n",
    "result = converter(dic, keys)"
   ]
  },
  {
   "cell_type": "markdown",
   "metadata": {},
   "source": [
    "Finally, I convert the dictionary into the `pandas` dataframe before saving it."
   ]
  },
  {
   "cell_type": "code",
   "execution_count": null,
   "metadata": {
    "scrolled": true
   },
   "outputs": [],
   "source": [
    "df = pd.DataFrame.from_dict(result)\n",
    "df.head()"
   ]
  },
  {
   "cell_type": "markdown",
   "metadata": {},
   "source": [
    "I also add the column which will indicate that the book is from Bestsellers list."
   ]
  },
  {
   "cell_type": "code",
   "execution_count": null,
   "metadata": {},
   "outputs": [],
   "source": [
    "df['best_seller'] = 'yes'"
   ]
  },
  {
   "cell_type": "markdown",
   "metadata": {},
   "source": [
    "Let's check our DataFrame:"
   ]
  },
  {
   "cell_type": "code",
   "execution_count": null,
   "metadata": {},
   "outputs": [],
   "source": [
    "print('dimensions: ', df.shape)\n",
    "print()\n",
    "df.head()"
   ]
  },
  {
   "cell_type": "markdown",
   "metadata": {},
   "source": [
    "We have extracted 8555 rows among seven columns from the Times API containing books that have been on their best-sellers list.\n",
    "\n",
    "Final step: I save the dataframe to the pickle file for more convenient transferring into the notebook where I will perform additional work on the dataframe."
   ]
  },
  {
   "cell_type": "code",
   "execution_count": null,
   "metadata": {},
   "outputs": [],
   "source": [
    "df.to_pickle('best_sellers.pkl')"
   ]
  },
  {
   "cell_type": "code",
   "execution_count": null,
   "metadata": {},
   "outputs": [],
   "source": [
    "# df.to_csv('best_sellers.csv', index=False)"
   ]
  },
  {
   "cell_type": "code",
   "execution_count": null,
   "metadata": {},
   "outputs": [],
   "source": []
  }
 ],
 "metadata": {
  "kernelspec": {
   "display_name": "Python 3",
   "language": "python",
   "name": "python3"
  },
  "language_info": {
   "codemirror_mode": {
    "name": "ipython",
    "version": 3
   },
   "file_extension": ".py",
   "mimetype": "text/x-python",
   "name": "python",
   "nbconvert_exporter": "python",
   "pygments_lexer": "ipython3",
   "version": "3.7.7"
  }
 },
 "nbformat": 4,
 "nbformat_minor": 4
}
