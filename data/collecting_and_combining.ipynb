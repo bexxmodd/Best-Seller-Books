{
 "cells": [
  {
   "cell_type": "code",
   "execution_count": 1,
   "metadata": {},
   "outputs": [],
   "source": [
    "import requests\n",
    "import time\n",
    "import pandas as pd\n",
    "import numpy as np\n",
    "\n",
    "from bs4 import BeautifulSoup\n",
    "from GoodReadsScraper import GoodReadsScraper"
   ]
  },
  {
   "cell_type": "code",
   "execution_count": 2,
   "metadata": {},
   "outputs": [
    {
     "name": "stdout",
     "output_type": "stream",
     "text": [
      "\n",
      "<class 'pandas.core.frame.DataFrame'>\n",
      "RangeIndex: 8555 entries, 0 to 8554\n",
      "Data columns (total 3 columns):\n",
      " #   Column   Non-Null Count  Dtype \n",
      "---  ------   --------------  ----- \n",
      " 0   isbn13   8552 non-null   object\n",
      " 1   title1   8555 non-null   object\n",
      " 2   author1  8555 non-null   object\n",
      "dtypes: object(3)\n",
      "memory usage: 200.6+ KB\n",
      "\n",
      "(8555, 3)\n",
      "<class 'pandas.core.frame.DataFrame'>\n",
      "RangeIndex: 8555 entries, 0 to 8554\n",
      "Data columns (total 3 columns):\n",
      " #   Column   Non-Null Count  Dtype \n",
      "---  ------   --------------  ----- \n",
      " 0   isbn13   8555 non-null   object\n",
      " 1   title1   8555 non-null   object\n",
      " 2   author1  8555 non-null   object\n",
      "dtypes: object(3)\n",
      "memory usage: 200.6+ KB\n",
      "\n",
      "\n",
      "author_title_isbn13\n",
      "gillian flynn gone girl 9780307588388               112\n",
      "george rr martin a game of thrones 9780553897845     77\n",
      "kristin hannah the nightingale 9781466850606         74\n",
      "e l james fifty shades of grey 9781612130293         71\n",
      "e l james fifty shades darker 9781612130590          70\n",
      "                                                   ... \n",
      "kristen ashley walk through fire 9781455533244        1\n",
      "kristen ashley the will A00B00HYIF9FW                 1\n",
      "kristen ashley the slow burn A00B07P1HZQDH            1\n",
      "kristen ashley the promise A00B00JXW6GFE              1\n",
      "jo nesbo the son 9780385351386                        1\n",
      "Length: 3084, dtype: int64\n"
     ]
    }
   ],
   "source": [
    "isbn = %run \"..\\data\\\\isbn13_list.ipynb\""
   ]
  },
  {
   "cell_type": "markdown",
   "metadata": {},
   "source": [
    "# Web Scraping"
   ]
  },
  {
   "cell_type": "code",
   "execution_count": 3,
   "metadata": {},
   "outputs": [],
   "source": [
    "df1 = df_final"
   ]
  },
  {
   "cell_type": "code",
   "execution_count": null,
   "metadata": {},
   "outputs": [],
   "source": [
    "scrapped = GoodReadsScraper(isbn13)"
   ]
  },
  {
   "cell_type": "code",
   "execution_count": null,
   "metadata": {},
   "outputs": [],
   "source": [
    "print(df2.shape)"
   ]
  },
  {
   "cell_type": "raw",
   "metadata": {},
   "source": [
    "result = df1.merge(df2, on='isbn13').merge(df3, on='isbn13')\n",
    "result.tail(10)"
   ]
  },
  {
   "cell_type": "raw",
   "metadata": {},
   "source": [
    "# soup = []\n",
    "# for i in isbn13[10:13]:\n",
    "#     r = requests.get(f'https://www.goodreads.com/book/isbn/{i}')\n",
    "soup = [BeautifulSoup(requests.get(f'https://www.goodreads.com/book/isbn/{i}').text, 'html.parser') for i in isbn13[10:13]]\n",
    "    \n",
    "print(len(soup))"
   ]
  },
  {
   "cell_type": "raw",
   "metadata": {},
   "source": [
    "cover_pic_url = []\n",
    "for s in soup:\n",
    "    cover_pic_url.append(s.find(id='coverImage')['src'])\n",
    "    \n",
    "print(cover_pic_url)"
   ]
  },
  {
   "cell_type": "raw",
   "metadata": {},
   "source": [
    "def goodreads_scraping(bbb):\n",
    "    isbn_13, cover_pic_url = [], [], # [], []\n",
    "\n",
    "    for isbn, n in zip(bbb, range(0, len(bbb))):\n",
    "        print(n, '-->', isbn)\n",
    "        isbn_13.append(isbn)\n",
    "#         time.sleep(2)\n",
    "\n",
    "        r = requests.get(f'https://www.goodreads.com/book/isbn/{isbn}')\n",
    "        soup = BeautifulSoup(r.text, 'html.parser')\n",
    "\n",
    "#         pages.append(getattr(soup.find(itemprop=\"numberOfPages\"), 'text', None))\n",
    "#         edition.append(getattr(soup.find(itemprop=\"bookFormat\"), 'text', None))\n",
    "#         cover_pic_url.append(getattr(soup.find(id='coverImage')['src'], 'text', None))\n",
    "        cover_pic_url.append(soup.find(id='coverImage')['src'])\n",
    "    return isbn_13, cover_pic_url"
   ]
  },
  {
   "cell_type": "raw",
   "metadata": {},
   "source": [
    "df1, df2 = goodreads_scraping(isbn13[30:40])"
   ]
  },
  {
   "cell_type": "code",
   "execution_count": null,
   "metadata": {},
   "outputs": [],
   "source": []
  }
 ],
 "metadata": {
  "kernelspec": {
   "display_name": "Python 3",
   "language": "python",
   "name": "python3"
  },
  "language_info": {
   "codemirror_mode": {
    "name": "ipython",
    "version": 3
   },
   "file_extension": ".py",
   "mimetype": "text/x-python",
   "name": "python",
   "nbconvert_exporter": "python",
   "pygments_lexer": "ipython3",
   "version": "3.7.7"
  }
 },
 "nbformat": 4,
 "nbformat_minor": 4
}
