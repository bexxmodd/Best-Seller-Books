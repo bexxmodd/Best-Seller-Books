{
 "cells": [
  {
   "cell_type": "code",
   "execution_count": 1,
   "metadata": {},
   "outputs": [],
   "source": [
    "import requests\n",
    "import time\n",
    "import pandas as pd\n",
    "import numpy as np\n",
    "\n",
    "from bs4 import BeautifulSoup\n",
    "from GoodReadsScraper import GoodReadsScraper"
   ]
  },
  {
   "cell_type": "code",
   "execution_count": 2,
   "metadata": {},
   "outputs": [
    {
     "name": "stdout",
     "output_type": "stream",
     "text": [
      "\n",
      "<class 'pandas.core.frame.DataFrame'>\n",
      "RangeIndex: 8555 entries, 0 to 8554\n",
      "Data columns (total 3 columns):\n",
      " #   Column   Non-Null Count  Dtype \n",
      "---  ------   --------------  ----- \n",
      " 0   isbn13   8552 non-null   object\n",
      " 1   title1   8555 non-null   object\n",
      " 2   author1  8555 non-null   object\n",
      "dtypes: object(3)\n",
      "memory usage: 200.6+ KB\n",
      "\n",
      "(8555, 3)\n",
      "<class 'pandas.core.frame.DataFrame'>\n",
      "RangeIndex: 8555 entries, 0 to 8554\n",
      "Data columns (total 3 columns):\n",
      " #   Column   Non-Null Count  Dtype \n",
      "---  ------   --------------  ----- \n",
      " 0   isbn13   8555 non-null   object\n",
      " 1   title1   8555 non-null   object\n",
      " 2   author1  8555 non-null   object\n",
      "dtypes: object(3)\n",
      "memory usage: 200.6+ KB\n",
      "\n",
      "\n",
      "author_title_isbn13\n",
      "gillian flynn gone girl 9780307588388               112\n",
      "george rr martin a game of thrones 9780553897845     77\n",
      "kristin hannah the nightingale 9781466850606         74\n",
      "e l james fifty shades of grey 9781612130293         71\n",
      "e l james fifty shades darker 9781612130590          70\n",
      "                                                   ... \n",
      "kristen ashley walk through fire 9781455533244        1\n",
      "kristen ashley the will A00B00HYIF9FW                 1\n",
      "kristen ashley the slow burn A00B07P1HZQDH            1\n",
      "kristen ashley the promise A00B00JXW6GFE              1\n",
      "jo nesbo the son 9780385351386                        1\n",
      "Length: 3084, dtype: int64\n"
     ]
    }
   ],
   "source": [
    "isbn = %run \"..\\data\\\\isbn13_list.ipynb\""
   ]
  },
  {
   "cell_type": "markdown",
   "metadata": {},
   "source": [
    "# Web Scraping"
   ]
  },
  {
   "cell_type": "code",
   "execution_count": 3,
   "metadata": {},
   "outputs": [],
   "source": [
    "df1 = df_final"
   ]
  },
  {
   "cell_type": "code",
   "execution_count": 4,
   "metadata": {},
   "outputs": [],
   "source": [
    "df2 = GoodReadsScraper(isbn13[:3]).data_converter()\n",
    "df3 = GoodReadsScraper(isbn13[:3]).genre_converter()"
   ]
  },
  {
   "cell_type": "code",
   "execution_count": 5,
   "metadata": {},
   "outputs": [
    {
     "data": {
      "text/plain": [
       "(3, 4)"
      ]
     },
     "execution_count": 5,
     "metadata": {},
     "output_type": "execute_result"
    }
   ],
   "source": [
    "df2.shape"
   ]
  },
  {
   "cell_type": "code",
   "execution_count": 6,
   "metadata": {},
   "outputs": [
    {
     "data": {
      "text/plain": [
       "(3, 4)"
      ]
     },
     "execution_count": 6,
     "metadata": {},
     "output_type": "execute_result"
    }
   ],
   "source": [
    "df3.shape"
   ]
  },
  {
   "cell_type": "code",
   "execution_count": null,
   "metadata": {},
   "outputs": [],
   "source": [
    "dfs = [df2, df3]"
   ]
  },
  {
   "cell_type": "code",
   "execution_count": 7,
   "metadata": {},
   "outputs": [
    {
     "data": {
      "text/html": [
       "<div>\n",
       "<style scoped>\n",
       "    .dataframe tbody tr th:only-of-type {\n",
       "        vertical-align: middle;\n",
       "    }\n",
       "\n",
       "    .dataframe tbody tr th {\n",
       "        vertical-align: top;\n",
       "    }\n",
       "\n",
       "    .dataframe thead th {\n",
       "        text-align: right;\n",
       "    }\n",
       "</style>\n",
       "<table border=\"1\" class=\"dataframe\">\n",
       "  <thead>\n",
       "    <tr style=\"text-align: right;\">\n",
       "      <th></th>\n",
       "      <th>title1</th>\n",
       "      <th>author1</th>\n",
       "      <th>isbn13</th>\n",
       "      <th>pages</th>\n",
       "      <th>edition</th>\n",
       "      <th>cover_pic_url</th>\n",
       "      <th>primary_genre</th>\n",
       "      <th>secondary_genre</th>\n",
       "      <th>tertiery_genre</th>\n",
       "    </tr>\n",
       "  </thead>\n",
       "  <tbody>\n",
       "    <tr>\n",
       "      <th>0</th>\n",
       "      <td>water for elephants</td>\n",
       "      <td>sara gruen</td>\n",
       "      <td>9781616200817</td>\n",
       "      <td>297 pages</td>\n",
       "      <td>ebook</td>\n",
       "      <td>https://i.gr-assets.com/images/S/compressed.ph...</td>\n",
       "      <td>Historical</td>\n",
       "      <td>Historical</td>\n",
       "      <td>Historical Fiction</td>\n",
       "    </tr>\n",
       "    <tr>\n",
       "      <th>1</th>\n",
       "      <td>chasing fire</td>\n",
       "      <td>nora roberts</td>\n",
       "      <td>9781101513781</td>\n",
       "      <td>480 pages</td>\n",
       "      <td>ebook</td>\n",
       "      <td>https://i.gr-assets.com/images/S/compressed.ph...</td>\n",
       "      <td>Romance</td>\n",
       "      <td>Romance</td>\n",
       "      <td>Romantic Suspense</td>\n",
       "    </tr>\n",
       "    <tr>\n",
       "      <th>2</th>\n",
       "      <td>the lincoln lawyer</td>\n",
       "      <td>michael connelly</td>\n",
       "      <td>9780759514713</td>\n",
       "      <td>528 pages</td>\n",
       "      <td>ebook</td>\n",
       "      <td>https://i.gr-assets.com/images/S/compressed.ph...</td>\n",
       "      <td>Fiction</td>\n",
       "      <td>Fiction</td>\n",
       "      <td>Thriller</td>\n",
       "    </tr>\n",
       "  </tbody>\n",
       "</table>\n",
       "</div>"
      ],
      "text/plain": [
       "                title1           author1         isbn13      pages edition  \\\n",
       "0  water for elephants        sara gruen  9781616200817  297 pages   ebook   \n",
       "1         chasing fire      nora roberts  9781101513781  480 pages   ebook   \n",
       "2   the lincoln lawyer  michael connelly  9780759514713  528 pages   ebook   \n",
       "\n",
       "                                       cover_pic_url primary_genre  \\\n",
       "0  https://i.gr-assets.com/images/S/compressed.ph...    Historical   \n",
       "1  https://i.gr-assets.com/images/S/compressed.ph...       Romance   \n",
       "2  https://i.gr-assets.com/images/S/compressed.ph...       Fiction   \n",
       "\n",
       "  secondary_genre      tertiery_genre  \n",
       "0      Historical  Historical Fiction  \n",
       "1         Romance   Romantic Suspense  \n",
       "2         Fiction            Thriller  "
      ]
     },
     "execution_count": 7,
     "metadata": {},
     "output_type": "execute_result"
    }
   ],
   "source": [
    "result = df1.merge(df2, on='isbn13').merge(df3, on='isbn13')\n",
    "result.head()"
   ]
  },
  {
   "cell_type": "code",
   "execution_count": null,
   "metadata": {},
   "outputs": [],
   "source": []
  }
 ],
 "metadata": {
  "kernelspec": {
   "display_name": "Python 3",
   "language": "python",
   "name": "python3"
  },
  "language_info": {
   "codemirror_mode": {
    "name": "ipython",
    "version": 3
   },
   "file_extension": ".py",
   "mimetype": "text/x-python",
   "name": "python",
   "nbconvert_exporter": "python",
   "pygments_lexer": "ipython3",
   "version": "3.7.7"
  }
 },
 "nbformat": 4,
 "nbformat_minor": 4
}
